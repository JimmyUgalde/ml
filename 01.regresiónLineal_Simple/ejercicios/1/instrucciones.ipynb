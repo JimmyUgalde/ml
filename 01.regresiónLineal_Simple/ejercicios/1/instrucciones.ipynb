{
 "cells": [
  {
   "cell_type": "markdown",
   "metadata": {},
   "source": [
    "# **Ejercicio de Regresión Lineal Simple**\n",
    "\n",
    "<img src=\"../../assets/altura.jpg\" alt=\"termómetros de temperatura con grados celsius y fahrenheit\" width=\"450\"/>\n",
    "\n",
    "\n",
    "En este ejercicio, se construirá un modelo de regresión lineal simple para predecir el peso de una persona a partir de su altura. La regresión lineal es una técnica fundamental en el campo de la ciencia de datos y el aprendizaje automático, ya que te permitirá comprender cómo hacer predicciones basadas en patrones de datos. Es crucial tener en cuenta que la calidad y la naturaleza de los datos con los que trabajas desempeñan un papel esencial en este proceso. Diferentes conjuntos de datos pueden proporcionar resultados significativamente diferentes, lo que resalta la importancia de la elección cuidadosa y la preparación de los datos para obtener predicciones precisas."
   ]
  },
  {
   "cell_type": "markdown",
   "metadata": {},
   "source": [
    "## Objetivo del Ejercicio\n",
    "\n",
    "El objetivo principal de este ejercicio es aplicar los conocimientos adquiridos sobre regresión lineal simple para predecir el peso de una persona en función de su altura. También la práctica de habilidades como la búsqueda de un dataset adecuado y la comparación de resultados con distintos conjuntos de datos."
   ]
  },
  {
   "cell_type": "markdown",
   "metadata": {},
   "source": [
    "# Instrucciones"
   ]
  },
  {
   "cell_type": "markdown",
   "metadata": {},
   "source": [
    "# Paso 1: Obtener un Dataset\n",
    "Para este ejercicio, es necesario encontrar un conjunto de datos adecuado. Debe buscar un dataset que contenga información sobre la altura y el peso de un grupo de personas. Puede buscar en línea o recopilar su propia información.\n",
    "\n",
    "Páginas con datasets recomendadas:\n",
    "\n",
    "**Kaggle:** https://www.kaggle.com/datasets \n",
    "\n",
    "**Data.gov:** https://data.gov/\n",
    "\n",
    "**Google Dataset Search:** https://datasetsearch.research.google.com/\n",
    "\n",
    "**Machine Learning Repository:** https://archive.ics.uci.edu/datasets\n"
   ]
  },
  {
   "cell_type": "markdown",
   "metadata": {},
   "source": [
    "# Paso 2: Explorar los Datos\n",
    "\n",
    "Una vez que haya obtenido el dataset, realice una exploración inicial de los datos. Revise la información y busque las variables de altura y peso."
   ]
  },
  {
   "cell_type": "markdown",
   "metadata": {},
   "source": [
    "# Paso 3: Preparar los Datos\n",
    "\n",
    "Extrae las características (altura) y las etiquetas (peso) del dataset para preparar los datos para el modelado. Asegúrate de que estén en el formato adecuado."
   ]
  },
  {
   "cell_type": "markdown",
   "metadata": {},
   "source": [
    "# Paso 4: Construir el Modelo\n",
    "\n",
    "Utiliza la biblioteca de Python scikit-learn para crear un modelo de regresión lineal simple.\n",
    "Entrena el modelo utilizando los datos de altura como entrada y peso como salida."
   ]
  },
  {
   "cell_type": "markdown",
   "metadata": {},
   "source": [
    "# Paso 5: Realizar Predicciones\n",
    "\n",
    "Después de entrenar el modelo, podrás usarlo para hacer predicciones. Ingresa una altura y utiliza el modelo para predecir el peso correspondiente."
   ]
  },
  {
   "cell_type": "markdown",
   "metadata": {},
   "source": [
    "# Paso 6: Evaluar el Modelo\n",
    "\n",
    "Calcule el coeficiente de determinación (R²) para evaluar la calidad de las predicciones del modelo. Esto le dirá cuán bien se ajusta el modelo a los datos reales."
   ]
  },
  {
   "cell_type": "markdown",
   "metadata": {},
   "source": [
    "# Paso 7: Comparar Resultados\n",
    "\n",
    "Puede repetir el paso 1 utilizando diferentes datasets. Compare los resultados obtenidos con distintos conjuntos de datos y anota cualquier diferencia en el rendimiento del modelo"
   ]
  }
 ],
 "metadata": {
  "language_info": {
   "name": "python"
  },
  "orig_nbformat": 4
 },
 "nbformat": 4,
 "nbformat_minor": 2
}
